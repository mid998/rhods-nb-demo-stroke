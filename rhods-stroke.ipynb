{
 "cells": [
  {
   "cell_type": "code",
   "execution_count": 1,
   "id": "262d618f",
   "metadata": {},
   "outputs": [
    {
     "name": "stdout",
     "output_type": "stream",
     "text": [
      "Requirement already satisfied: imblearn in /Users/michelledipalma/opt/anaconda3/lib/python3.9/site-packages (0.0)\n",
      "Requirement already satisfied: scikit-plot in /Users/michelledipalma/opt/anaconda3/lib/python3.9/site-packages (0.3.7)\n",
      "Requirement already satisfied: pywaffle in /Users/michelledipalma/opt/anaconda3/lib/python3.9/site-packages (1.1.0)\n",
      "Requirement already satisfied: jaydebeapi in /Users/michelledipalma/opt/anaconda3/lib/python3.9/site-packages (1.2.3)\n",
      "Requirement already satisfied: imbalanced-learn in /Users/michelledipalma/opt/anaconda3/lib/python3.9/site-packages (from imblearn) (0.9.1)\n",
      "Requirement already satisfied: scipy>=0.9 in /Users/michelledipalma/opt/anaconda3/lib/python3.9/site-packages (from scikit-plot) (1.7.1)\n",
      "Requirement already satisfied: joblib>=0.10 in /Users/michelledipalma/opt/anaconda3/lib/python3.9/site-packages (from scikit-plot) (1.1.0)\n",
      "Requirement already satisfied: scikit-learn>=0.18 in /Users/michelledipalma/opt/anaconda3/lib/python3.9/site-packages (from scikit-plot) (1.1.1)\n",
      "Requirement already satisfied: matplotlib>=1.4.0 in /Users/michelledipalma/opt/anaconda3/lib/python3.9/site-packages (from scikit-plot) (3.4.3)\n",
      "Requirement already satisfied: fontawesomefree in /Users/michelledipalma/opt/anaconda3/lib/python3.9/site-packages (from pywaffle) (6.1.2)\n",
      "Requirement already satisfied: JPype1 in /Users/michelledipalma/opt/anaconda3/lib/python3.9/site-packages (from jaydebeapi) (1.4.0)\n",
      "Requirement already satisfied: python-dateutil>=2.7 in /Users/michelledipalma/opt/anaconda3/lib/python3.9/site-packages (from matplotlib>=1.4.0->scikit-plot) (2.8.2)\n",
      "Requirement already satisfied: numpy>=1.16 in /Users/michelledipalma/opt/anaconda3/lib/python3.9/site-packages (from matplotlib>=1.4.0->scikit-plot) (1.20.3)\n",
      "Requirement already satisfied: pyparsing>=2.2.1 in /Users/michelledipalma/opt/anaconda3/lib/python3.9/site-packages (from matplotlib>=1.4.0->scikit-plot) (3.0.4)\n",
      "Requirement already satisfied: kiwisolver>=1.0.1 in /Users/michelledipalma/opt/anaconda3/lib/python3.9/site-packages (from matplotlib>=1.4.0->scikit-plot) (1.3.1)\n",
      "Requirement already satisfied: pillow>=6.2.0 in /Users/michelledipalma/opt/anaconda3/lib/python3.9/site-packages (from matplotlib>=1.4.0->scikit-plot) (8.4.0)\n",
      "Requirement already satisfied: cycler>=0.10 in /Users/michelledipalma/opt/anaconda3/lib/python3.9/site-packages (from matplotlib>=1.4.0->scikit-plot) (0.10.0)\n",
      "Requirement already satisfied: six in /Users/michelledipalma/opt/anaconda3/lib/python3.9/site-packages (from cycler>=0.10->matplotlib>=1.4.0->scikit-plot) (1.16.0)\n",
      "Requirement already satisfied: threadpoolctl>=2.0.0 in /Users/michelledipalma/opt/anaconda3/lib/python3.9/site-packages (from scikit-learn>=0.18->scikit-plot) (2.2.0)\n"
     ]
    }
   ],
   "source": [
    "!pip install imblearn scikit-plot pywaffle seaborn\n",
    "import numpy as np \n",
    "import pandas as pd "
   ]
  },
  {
   "cell_type": "code",
   "execution_count": 2,
   "id": "94ab6d20",
   "metadata": {},
   "outputs": [],
   "source": [
    "import matplotlib.pyplot as plt\n",
    "import matplotlib.ticker as mtick\n",
    "import matplotlib.gridspec as grid_spec\n",
    "import seaborn as sns\n",
    "from imblearn.over_sampling import SMOTE\n",
    "import scikitplot as skplt"
   ]
  },
  {
   "cell_type": "code",
   "execution_count": 3,
   "id": "94f55337",
   "metadata": {},
   "outputs": [],
   "source": [
    "from sklearn.pipeline import Pipeline\n",
    "from sklearn.preprocessing import StandardScaler,LabelEncoder\n",
    "from sklearn.model_selection import train_test_split,cross_val_score"
   ]
  },
  {
   "cell_type": "code",
   "execution_count": 4,
   "id": "e57ec59e",
   "metadata": {},
   "outputs": [],
   "source": [
    "from sklearn.metrics import classification_report, confusion_matrix\n",
    "from sklearn.metrics import accuracy_score, recall_score, roc_auc_score, precision_score, f1_score"
   ]
  },
  {
   "cell_type": "code",
   "execution_count": 5,
   "id": "949fa168",
   "metadata": {},
   "outputs": [],
   "source": [
    "from sklearn.linear_model import LinearRegression,LogisticRegression\n",
    "from sklearn.tree import DecisionTreeRegressor,DecisionTreeClassifier\n",
    "from sklearn.ensemble import RandomForestClassifier\n",
    "from sklearn.svm import SVC"
   ]
  },
  {
   "cell_type": "code",
   "execution_count": 6,
   "id": "7c914996-e410-474a-bfd2-5065f901911b",
   "metadata": {},
   "outputs": [
    {
     "ename": "KeyError",
     "evalue": "'AWS_ACCESS_KEY'",
     "output_type": "error",
     "traceback": [
      "\u001b[0;31m---------------------------------------------------------------------------\u001b[0m",
      "\u001b[0;31mKeyError\u001b[0m                                  Traceback (most recent call last)",
      "\u001b[0;32m/var/folders/k5/ylxycdf53qqdqzpbp3xs9gt40000gn/T/ipykernel_69897/1777923917.py\u001b[0m in \u001b[0;36m<module>\u001b[0;34m\u001b[0m\n\u001b[1;32m      5\u001b[0m \u001b[0mS3_SECRET_KEY\u001b[0m \u001b[0;34m=\u001b[0m \u001b[0mos\u001b[0m\u001b[0;34m.\u001b[0m\u001b[0mgetenv\u001b[0m\u001b[0;34m(\u001b[0m\u001b[0;34m\"AWS_SECRET_ACCESS_KEY\"\u001b[0m\u001b[0;34m)\u001b[0m\u001b[0;34m\u001b[0m\u001b[0;34m\u001b[0m\u001b[0m\n\u001b[1;32m      6\u001b[0m \u001b[0;34m\u001b[0m\u001b[0m\n\u001b[0;32m----> 7\u001b[0;31m \u001b[0ms3\u001b[0m \u001b[0;34m=\u001b[0m \u001b[0mboto3\u001b[0m\u001b[0;34m.\u001b[0m\u001b[0mclient\u001b[0m\u001b[0;34m(\u001b[0m\u001b[0;34m's3'\u001b[0m\u001b[0;34m,\u001b[0m\u001b[0maws_access_key_id\u001b[0m\u001b[0;34m=\u001b[0m\u001b[0mos\u001b[0m\u001b[0;34m.\u001b[0m\u001b[0menviron\u001b[0m\u001b[0;34m[\u001b[0m\u001b[0;34m'AWS_ACCESS_KEY'\u001b[0m\u001b[0;34m]\u001b[0m\u001b[0;34m,\u001b[0m\u001b[0maws_secret_access_key\u001b[0m\u001b[0;34m=\u001b[0m\u001b[0mos\u001b[0m\u001b[0;34m.\u001b[0m\u001b[0menviron\u001b[0m\u001b[0;34m[\u001b[0m\u001b[0;34m'AWS_SECRET_KEY'\u001b[0m\u001b[0;34m]\u001b[0m\u001b[0;34m)\u001b[0m\u001b[0;34m\u001b[0m\u001b[0;34m\u001b[0m\u001b[0m\n\u001b[0m\u001b[1;32m      8\u001b[0m \u001b[0ms3\u001b[0m\u001b[0;34m.\u001b[0m\u001b[0mdownload_file\u001b[0m\u001b[0;34m(\u001b[0m\u001b[0;34m'sepsis'\u001b[0m\u001b[0;34m,\u001b[0m \u001b[0;34m'healthcare-dataset-stroke-data.csv'\u001b[0m\u001b[0;34m,\u001b[0m \u001b[0;34m'stroke-data.csv'\u001b[0m\u001b[0;34m)\u001b[0m\u001b[0;34m\u001b[0m\u001b[0;34m\u001b[0m\u001b[0m\n",
      "\u001b[0;32m~/opt/anaconda3/lib/python3.9/os.py\u001b[0m in \u001b[0;36m__getitem__\u001b[0;34m(self, key)\u001b[0m\n\u001b[1;32m    677\u001b[0m         \u001b[0;32mexcept\u001b[0m \u001b[0mKeyError\u001b[0m\u001b[0;34m:\u001b[0m\u001b[0;34m\u001b[0m\u001b[0;34m\u001b[0m\u001b[0m\n\u001b[1;32m    678\u001b[0m             \u001b[0;31m# raise KeyError with the original key value\u001b[0m\u001b[0;34m\u001b[0m\u001b[0;34m\u001b[0m\u001b[0m\n\u001b[0;32m--> 679\u001b[0;31m             \u001b[0;32mraise\u001b[0m \u001b[0mKeyError\u001b[0m\u001b[0;34m(\u001b[0m\u001b[0mkey\u001b[0m\u001b[0;34m)\u001b[0m \u001b[0;32mfrom\u001b[0m \u001b[0;32mNone\u001b[0m\u001b[0;34m\u001b[0m\u001b[0;34m\u001b[0m\u001b[0m\n\u001b[0m\u001b[1;32m    680\u001b[0m         \u001b[0;32mreturn\u001b[0m \u001b[0mself\u001b[0m\u001b[0;34m.\u001b[0m\u001b[0mdecodevalue\u001b[0m\u001b[0;34m(\u001b[0m\u001b[0mvalue\u001b[0m\u001b[0;34m)\u001b[0m\u001b[0;34m\u001b[0m\u001b[0;34m\u001b[0m\u001b[0m\n\u001b[1;32m    681\u001b[0m \u001b[0;34m\u001b[0m\u001b[0m\n",
      "\u001b[0;31mKeyError\u001b[0m: 'AWS_ACCESS_KEY'"
     ]
    }
   ],
   "source": [
    "import boto3\n",
    "import os\n",
    "\n",
    "s3 = boto3.client('s3',aws_access_key_id=os.environ['ACCESS_KEY'],aws_secret_access_key=os.environ['SECRET_KEY'])\n",
    "s3.download_file('sepsis', 'healthcare-dataset-stroke-data.csv', 'stroke-data.csv')\n"
   ]
  },
  {
   "cell_type": "code",
   "execution_count": null,
   "id": "c90b176d",
   "metadata": {},
   "outputs": [],
   "source": [
    "df = pd.read_csv('stroke-data.csv')\n",
    "df.head(3)"
   ]
  },
  {
   "cell_type": "code",
   "execution_count": null,
   "id": "c5f1c3aa",
   "metadata": {},
   "outputs": [],
   "source": [
    "df.isnull().sum()"
   ]
  },
  {
   "cell_type": "code",
   "execution_count": null,
   "id": "593cd4ef",
   "metadata": {},
   "outputs": [],
   "source": [
    "DT_bmi_pipe = Pipeline( steps=[ \n",
    "                               ('scale',StandardScaler()),\n",
    "                               ('lr',DecisionTreeRegressor(random_state=42))\n",
    "                              ])\n",
    "X = df[['age','gender','bmi']].copy()\n",
    "X.gender = X.gender.replace({'Male':0,'Female':1,'Other':-1}).astype(np.uint8)\n",
    "\n",
    "Missing = X[X.bmi.isna()]\n",
    "X = X[~X.bmi.isna()]\n",
    "Y = X.pop('bmi')\n",
    "DT_bmi_pipe.fit(X,Y)\n",
    "predicted_bmi = pd.Series(DT_bmi_pipe.predict(Missing[['age','gender']]),index=Missing.index)\n",
    "df.loc[Missing.index,'bmi'] = predicted_bmi"
   ]
  },
  {
   "cell_type": "code",
   "execution_count": null,
   "id": "28bd92a1",
   "metadata": {},
   "outputs": [],
   "source": [
    "print('Missing values: ',sum(df.isnull().sum()))"
   ]
  },
  {
   "cell_type": "code",
   "execution_count": null,
   "id": "8a59c3d8",
   "metadata": {},
   "outputs": [],
   "source": [
    "variables = [variable for variable in df.columns if variable not in ['id','stroke']]\n",
    "\n",
    "conts = ['age','avg_glucose_level','bmi']\n"
   ]
  },
  {
   "cell_type": "code",
   "execution_count": null,
   "id": "7f13f281",
   "metadata": {},
   "outputs": [],
   "source": [
    "fig = plt.figure(figsize=(12, 12), dpi=150, facecolor='#fafafa')\n",
    "gs = fig.add_gridspec(4, 3)\n",
    "gs.update(wspace=0.1, hspace=0.4)\n",
    "\n",
    "background_color = \"#fafafa\"\n",
    "\n",
    "plot = 0\n",
    "for row in range(0, 1):\n",
    "    for col in range(0, 3):\n",
    "        locals()[\"ax\"+str(plot)] = fig.add_subplot(gs[row, col])\n",
    "        locals()[\"ax\"+str(plot)].set_facecolor(background_color)\n",
    "        locals()[\"ax\"+str(plot)].tick_params(axis='y', left=False)\n",
    "        locals()[\"ax\"+str(plot)].get_yaxis().set_visible(False)\n",
    "        for s in [\"top\",\"right\",\"left\"]:\n",
    "            locals()[\"ax\"+str(plot)].spines[s].set_visible(False)\n",
    "        plot += 1\n",
    "\n",
    "plot = 0\n",
    "for variable in conts:\n",
    "        sns.kdeplot(df[variable] ,ax=locals()[\"ax\"+str(plot)], color='#0f4c81', shade=True, linewidth=1.5, ec='black',alpha=0.9, zorder=3, legend=False)\n",
    "        locals()[\"ax\"+str(plot)].grid(which='major', axis='x', zorder=0, color='gray', linestyle=':', dashes=(1,5))\n",
    "        #locals()[\"ax\"+str(plot)].set_xlabel(variable) removed this for aesthetics\n",
    "        plot += 1\n",
    "        \n",
    "ax0.set_xlabel('Age')\n",
    "ax1.set_xlabel('Avg. Glucose Levels')\n",
    "ax2.set_xlabel('BMI')\n",
    "\n",
    "\n",
    "ax0.text(-20, 0.022, 'Numeric Variable Distribution', fontsize=20, fontweight='bold', fontfamily='serif')\n",
    "ax0.text(-20, 0.02, 'Age, Av. Glucose Level, and  BMI', fontsize=13, fontweight='light', fontfamily='serif')\n",
    "\n",
    "plt.show()"
   ]
  },
  {
   "cell_type": "code",
   "execution_count": null,
   "id": "f46c5abb",
   "metadata": {},
   "outputs": [],
   "source": [
    "fig = plt.figure(figsize=(12, 12), dpi=150,facecolor=background_color)\n",
    "gs = fig.add_gridspec(4, 3)\n",
    "gs.update(wspace=0.1, hspace=0.4)\n",
    "\n",
    "\n",
    "plot = 0\n",
    "for row in range(0, 1):\n",
    "    for col in range(0, 3):\n",
    "        locals()[\"ax\"+str(plot)] = fig.add_subplot(gs[row, col])\n",
    "        locals()[\"ax\"+str(plot)].set_facecolor(background_color)\n",
    "        locals()[\"ax\"+str(plot)].tick_params(axis='y', left=False)\n",
    "        locals()[\"ax\"+str(plot)].get_yaxis().set_visible(False)\n",
    "        for s in [\"top\",\"right\",\"left\"]:\n",
    "            locals()[\"ax\"+str(plot)].spines[s].set_visible(False)\n",
    "        plot += 1\n",
    "\n",
    "plot = 0\n",
    "\n",
    "s = df[df['stroke'] == 1]\n",
    "ns = df[df['stroke'] == 0]\n",
    "\n",
    "for feature in conts:\n",
    "        sns.kdeplot(s[feature], ax=locals()[\"ax\"+str(plot)], color='#0f4c81', shade=True, linewidth=1.5, ec='black',alpha=0.9, zorder=3, legend=False)\n",
    "        sns.kdeplot(ns[feature],ax=locals()[\"ax\"+str(plot)], color='#9bb7d4', shade=True, linewidth=1.5, ec='black',alpha=0.9, zorder=3, legend=False)\n",
    "        locals()[\"ax\"+str(plot)].grid(which='major', axis='x', zorder=0, color='gray', linestyle=':', dashes=(1,5))\n",
    "        #locals()[\"ax\"+str(plot)].set_xlabel(feature)\n",
    "        plot += 1\n",
    "\n",
    "ax0.set_xlabel('Age')\n",
    "ax1.set_xlabel('Avg. Glucose Levels')\n",
    "ax2.set_xlabel('BMI')\n",
    "        \n",
    "ax0.text(-20, 0.056, 'Numeric Variables by Stroke & No Stroke', fontsize=20, fontweight='bold', fontfamily='serif')\n",
    "\n",
    "\n",
    "plt.show()"
   ]
  },
  {
   "cell_type": "code",
   "execution_count": null,
   "id": "8a1e39c3",
   "metadata": {},
   "outputs": [],
   "source": [
    "str_only = df[df['stroke'] == 1]\n",
    "no_str_only = df[df['stroke'] == 0]"
   ]
  },
  {
   "cell_type": "code",
   "execution_count": null,
   "id": "c5399d55",
   "metadata": {},
   "outputs": [],
   "source": [
    "import warnings\n",
    "warnings.filterwarnings('ignore')"
   ]
  },
  {
   "cell_type": "code",
   "execution_count": null,
   "id": "641364ff",
   "metadata": {},
   "outputs": [],
   "source": []
  },
  {
   "cell_type": "code",
   "execution_count": null,
   "id": "a64b56a2",
   "metadata": {},
   "outputs": [],
   "source": [
    "# Setting up figure and axes\n",
    "\n",
    "fig = plt.figure(figsize=(10,16),dpi=150,facecolor=background_color) \n",
    "gs = fig.add_gridspec(4, 2)\n",
    "gs.update(wspace=0.5, hspace=0.2)\n",
    "ax0 = fig.add_subplot(gs[0, 0:2])\n",
    "ax1 = fig.add_subplot(gs[1, 0:2]) \n",
    "\n",
    "ax0.set_facecolor(background_color)\n",
    "ax1.set_facecolor(background_color)\n",
    "\n",
    "# glucose\n",
    "\n",
    "sns.regplot(no_str_only['age'],y=no_str_only['avg_glucose_level'],  \n",
    "            color='lightgray',\n",
    "            logx=True,\n",
    "            ax=ax0)\n",
    "\n",
    "sns.regplot(str_only['age'],y=str_only['avg_glucose_level'],  \n",
    "            color='#0f4c81',\n",
    "            logx=True,scatter_kws={'edgecolors':['black'], \n",
    "                                              'linewidth': 1},\n",
    "            ax=ax0)\n",
    "\n",
    "ax0.set(ylim=(0, None))\n",
    "ax0.set_xlabel(\" \",fontsize=12,fontfamily='serif')\n",
    "ax0.set_ylabel(\"Avg. Glucose Level\",fontsize=10,fontfamily='serif',loc='bottom')\n",
    "\n",
    "ax0.tick_params(axis='x', bottom=False)\n",
    "ax0.get_xaxis().set_visible(False)\n",
    "\n",
    "for s in ['top','left','bottom']:\n",
    "    ax0.spines[s].set_visible(False)\n",
    "\n",
    "\n",
    "# bmi\n",
    "sns.regplot(no_str_only['age'],y=no_str_only['bmi'],  \n",
    "            color='lightgray',\n",
    "            logx=True,\n",
    "            ax=ax1)\n",
    "\n",
    "sns.regplot(str_only['age'],y=str_only['bmi'],  \n",
    "            color='#0f4c81', scatter_kws={'edgecolors':['black'], \n",
    "                                              'linewidth': 1},\n",
    "            logx=True,\n",
    "            ax=ax1)\n",
    "\n",
    "ax1.set_xlabel(\"Age\",fontsize=10,fontfamily='serif',loc='left')\n",
    "ax1.set_ylabel(\"BMI\",fontsize=10,fontfamily='serif',loc='bottom')\n",
    "\n",
    "\n",
    "for s in ['top','left','right']:\n",
    "    ax0.spines[s].set_visible(False)\n",
    "    ax1.spines[s].set_visible(False)\n",
    "\n",
    "    \n",
    "ax0.text(-5,350,'Strokes by Age, Glucose Level, and BMI',fontsize=18,fontfamily='serif',fontweight='bold')\n",
    "ax0.text(-5,320,'Age appears to be a very important factor',fontsize=14,fontfamily='serif')\n",
    "\n",
    "\n",
    "ax0.tick_params(axis=u'both', which=u'both',length=0)\n",
    "ax1.tick_params(axis=u'both', which=u'both',length=0)\n",
    "\n",
    "\n",
    "\n",
    "plt.show()\n"
   ]
  },
  {
   "cell_type": "code",
   "execution_count": null,
   "id": "aaa5dc5f",
   "metadata": {},
   "outputs": [],
   "source": [
    "fig = plt.figure(figsize=(10, 5), dpi=150,facecolor=background_color)\n",
    "gs = fig.add_gridspec(2, 1)\n",
    "gs.update(wspace=0.11, hspace=0.5)\n",
    "ax0 = fig.add_subplot(gs[0, 0])\n",
    "ax0.set_facecolor(background_color)\n",
    "\n",
    "\n",
    "df['age'] = df['age'].astype(int)\n",
    "\n",
    "rate = []\n",
    "for i in range(df['age'].min(), df['age'].max()):\n",
    "    rate.append(df[df['age'] < i]['stroke'].sum() / len(df[df['age'] < i]['stroke']))\n",
    "\n",
    "sns.lineplot(data=rate,color='#0f4c81',ax=ax0)\n",
    "\n",
    "for s in [\"top\",\"right\",\"left\"]:\n",
    "    ax0.spines[s].set_visible(False)\n",
    "\n",
    "ax0.tick_params(axis='both', which='major', labelsize=8)\n",
    "ax0.tick_params(axis=u'both', which=u'both',length=0)\n",
    "\n",
    "ax0.text(-3,0.055,'Risk Increase by Age',fontsize=18,fontfamily='serif',fontweight='bold')\n",
    "ax0.text(-3,0.047,'As age increase, so too does risk of having a stroke',fontsize=14,fontfamily='serif')\n",
    "\n",
    "\n",
    "plt.show()\n"
   ]
  },
  {
   "cell_type": "code",
   "execution_count": null,
   "id": "0b13338f",
   "metadata": {},
   "outputs": [],
   "source": [
    "from pywaffle import Waffle\n",
    "\n",
    "fig = plt.figure(figsize=(7, 2),dpi=150,facecolor=background_color,\n",
    "    FigureClass=Waffle,\n",
    "    rows=1,\n",
    "    values=[1, 19],\n",
    "    colors=['#0f4c81', \"lightgray\"],\n",
    "    characters='⬤',\n",
    "    font_size=20,vertical=True,\n",
    ")\n",
    "\n",
    "fig.text(0.035,0.78,'People Affected by a Stroke in our dataset',fontfamily='serif',fontsize=15,fontweight='bold')\n",
    "fig.text(0.035,0.65,'This is around 1 in 20 people [249 out of 5000]',fontfamily='serif',fontsize=10)\n",
    "\n",
    "plt.show()"
   ]
  },
  {
   "cell_type": "code",
   "execution_count": null,
   "id": "bd121674",
   "metadata": {},
   "outputs": [],
   "source": [
    "df['gender'] = df['gender'].replace({'Male':0,'Female':1,'Other':-1}).astype(np.uint8)\n",
    "df['Residence_type'] = df['Residence_type'].replace({'Rural':0,'Urban':1}).astype(np.uint8)\n",
    "df['work_type'] = df['work_type'].replace({'Private':0,'Self-employed':1,'Govt_job':2,'children':-1,'Never_worked':-2}).astype(np.uint8)"
   ]
  },
  {
   "cell_type": "code",
   "execution_count": null,
   "id": "2bdec08e",
   "metadata": {},
   "outputs": [],
   "source": [
    "# Inverse of Null Accuracy\n",
    "print('Inverse of Null Accuracy: ',249/(249+4861))\n",
    "print('Null Accuracy: ',4861/(4861+249))"
   ]
  },
  {
   "cell_type": "code",
   "execution_count": null,
   "id": "a81f0615",
   "metadata": {},
   "outputs": [],
   "source": [
    "X  = df[['gender','age','hypertension','heart_disease','work_type','avg_glucose_level','bmi']]\n",
    "y = df['stroke']\n",
    "\n",
    "from sklearn.model_selection import train_test_split\n",
    "\n",
    "X_train, X_test, y_train, y_test = train_test_split(X, y, train_size=0.3, random_state=42)"
   ]
  },
  {
   "cell_type": "code",
   "execution_count": null,
   "id": "b1d0e04a",
   "metadata": {},
   "outputs": [],
   "source": [
    "X_test.head(2)"
   ]
  },
  {
   "cell_type": "code",
   "execution_count": null,
   "id": "86a5cc10",
   "metadata": {},
   "outputs": [],
   "source": [
    "# Our data is biased, we can fix this with SMOTE\n",
    "\n",
    "oversample = SMOTE()\n",
    "X_train_resh, y_train_resh = oversample.fit_resample(X_train, y_train.ravel())"
   ]
  },
  {
   "cell_type": "code",
   "execution_count": null,
   "id": "05658611",
   "metadata": {},
   "outputs": [],
   "source": [
    "# Models\n",
    "\n",
    "# Scale our data in pipeline, then split\n",
    "\n",
    "rf_pipeline = Pipeline(steps = [('scale',StandardScaler()),('RF',RandomForestClassifier(random_state=42))])\n",
    "svm_pipeline = Pipeline(steps = [('scale',StandardScaler()),('SVM',SVC(random_state=42))])\n",
    "logreg_pipeline = Pipeline(steps = [('scale',StandardScaler()),('LR',LogisticRegression(random_state=42))])\n",
    "\n",
    "\n",
    "\n",
    "#X = upsampled_df.iloc[:,:-1] # X_train_resh\n",
    "#Y = upsampled_df.iloc[:,-1]# y_train_resh\n",
    "\n",
    "#retain_x = X.sample(100)\n",
    "#retain_y = Y.loc[X.index]\n",
    "\n",
    "#X = X.drop(index=retain_x.index)\n",
    "#Y = Y.drop(index=retain_x.index)"
   ]
  },
  {
   "cell_type": "code",
   "execution_count": null,
   "id": "10dc3c88",
   "metadata": {},
   "outputs": [],
   "source": [
    "rf_cv = cross_val_score(rf_pipeline,X_train_resh,y_train_resh,cv=10,scoring='f1')\n",
    "svm_cv = cross_val_score(svm_pipeline,X_train_resh,y_train_resh,cv=10,scoring='f1')\n",
    "logreg_cv = cross_val_score(logreg_pipeline,X_train_resh,y_train_resh,cv=10,scoring='f1')"
   ]
  },
  {
   "cell_type": "code",
   "execution_count": null,
   "id": "07add002",
   "metadata": {},
   "outputs": [],
   "source": [
    "print('Mean f1 scores:')\n",
    "print('Random Forest mean :',cross_val_score(rf_pipeline,X_train_resh,y_train_resh,cv=10,scoring='f1').mean())\n",
    "print('SVM mean :',cross_val_score(svm_pipeline,X_train_resh,y_train_resh,cv=10,scoring='f1').mean())\n",
    "print('Logistic Regression mean :',cross_val_score(logreg_pipeline,X_train_resh,y_train_resh,cv=10,scoring='f1').mean())"
   ]
  }
 ],
 "metadata": {
  "kernelspec": {
   "display_name": "Python 3 (ipykernel)",
   "language": "python",
   "name": "python3"
  },
  "language_info": {
   "codemirror_mode": {
    "name": "ipython",
    "version": 3
   },
   "file_extension": ".py",
   "mimetype": "text/x-python",
   "name": "python",
   "nbconvert_exporter": "python",
   "pygments_lexer": "ipython3",
   "version": "3.9.7"
  },
  "varInspector": {
   "cols": {
    "lenName": 16,
    "lenType": 16,
    "lenVar": 40
   },
   "kernels_config": {
    "python": {
     "delete_cmd_postfix": "",
     "delete_cmd_prefix": "del ",
     "library": "var_list.py",
     "varRefreshCmd": "print(var_dic_list())"
    },
    "r": {
     "delete_cmd_postfix": ") ",
     "delete_cmd_prefix": "rm(",
     "library": "var_list.r",
     "varRefreshCmd": "cat(var_dic_list()) "
    }
   },
   "types_to_exclude": [
    "module",
    "function",
    "builtin_function_or_method",
    "instance",
    "_Feature"
   ],
   "window_display": false
  }
 },
 "nbformat": 4,
 "nbformat_minor": 5
}
